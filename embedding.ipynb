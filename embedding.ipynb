{
 "cells": [
  {
   "cell_type": "code",
   "execution_count": null,
   "metadata": {
    "colab": {
     "base_uri": "https://localhost:8080/"
    },
    "id": "aQVf8W0WTPqX",
    "outputId": "72820dcb-52ba-4fe5-d9ad-3df195100689"
   },
   "outputs": [
    {
     "name": "stdout",
     "output_type": "stream",
     "text": [
      "Looking in indexes: https://pypi.org/simple, https://us-python.pkg.dev/colab-wheels/public/simple/\n",
      "Collecting git+https://github.com/openai/CLIP.git\n",
      "  Cloning https://github.com/openai/CLIP.git to /tmp/pip-req-build-hlb6w10e\n",
      "  Running command git clone -q https://github.com/openai/CLIP.git /tmp/pip-req-build-hlb6w10e\n",
      "Collecting ftfy\n",
      "  Downloading ftfy-6.1.1-py3-none-any.whl (53 kB)\n",
      "\u001b[K     |████████████████████████████████| 53 kB 2.0 MB/s \n",
      "\u001b[?25hRequirement already satisfied: regex in /usr/local/lib/python3.7/dist-packages (from clip==1.0) (2019.12.20)\n",
      "Requirement already satisfied: tqdm in /usr/local/lib/python3.7/dist-packages (from clip==1.0) (4.64.0)\n",
      "Requirement already satisfied: torch in /usr/local/lib/python3.7/dist-packages (from clip==1.0) (1.11.0+cu113)\n",
      "Requirement already satisfied: torchvision in /usr/local/lib/python3.7/dist-packages (from clip==1.0) (0.12.0+cu113)\n",
      "Requirement already satisfied: wcwidth>=0.2.5 in /usr/local/lib/python3.7/dist-packages (from ftfy->clip==1.0) (0.2.5)\n",
      "Requirement already satisfied: typing-extensions in /usr/local/lib/python3.7/dist-packages (from torch->clip==1.0) (4.2.0)\n",
      "Requirement already satisfied: requests in /usr/local/lib/python3.7/dist-packages (from torchvision->clip==1.0) (2.23.0)\n",
      "Requirement already satisfied: pillow!=8.3.*,>=5.3.0 in /usr/local/lib/python3.7/dist-packages (from torchvision->clip==1.0) (7.1.2)\n",
      "Requirement already satisfied: numpy in /usr/local/lib/python3.7/dist-packages (from torchvision->clip==1.0) (1.21.6)\n",
      "Requirement already satisfied: idna<3,>=2.5 in /usr/local/lib/python3.7/dist-packages (from requests->torchvision->clip==1.0) (2.10)\n",
      "Requirement already satisfied: chardet<4,>=3.0.2 in /usr/local/lib/python3.7/dist-packages (from requests->torchvision->clip==1.0) (3.0.4)\n",
      "Requirement already satisfied: certifi>=2017.4.17 in /usr/local/lib/python3.7/dist-packages (from requests->torchvision->clip==1.0) (2022.5.18.1)\n",
      "Requirement already satisfied: urllib3!=1.25.0,!=1.25.1,<1.26,>=1.21.1 in /usr/local/lib/python3.7/dist-packages (from requests->torchvision->clip==1.0) (1.24.3)\n",
      "Building wheels for collected packages: clip\n",
      "  Building wheel for clip (setup.py) ... \u001b[?25l\u001b[?25hdone\n",
      "  Created wheel for clip: filename=clip-1.0-py3-none-any.whl size=1369387 sha256=aec2415c4240432d2f4a2cd0c8b25dfa4105f4c8615b8f3d65b46c03bb214760\n",
      "  Stored in directory: /tmp/pip-ephem-wheel-cache-1bxev8vp/wheels/fd/b9/c3/5b4470e35ed76e174bff77c92f91da82098d5e35fd5bc8cdac\n",
      "Successfully built clip\n",
      "Installing collected packages: ftfy, clip\n",
      "Successfully installed clip-1.0 ftfy-6.1.1\n"
     ]
    }
   ],
   "source": [
    "! pip install git+https://github.com/openai/CLIP.git"
   ]
  },
  {
   "cell_type": "code",
   "execution_count": null,
   "metadata": {
    "colab": {
     "base_uri": "https://localhost:8080/"
    },
    "id": "1CfCN6b9_0aQ",
    "outputId": "3bfd3d10-4843-4468-a7eb-7ab7eec7273a"
   },
   "outputs": [
    {
     "name": "stderr",
     "output_type": "stream",
     "text": [
      "100%|███████████████████████████████████████| 338M/338M [00:31<00:00, 11.2MiB/s]\n"
     ]
    },
    {
     "name": "stdout",
     "output_type": "stream",
     "text": [
      "158915 captions loaded from json \n"
     ]
    },
    {
     "name": "stderr",
     "output_type": "stream",
     "text": [
      "100%|██████████| 158915/158915 [3:01:57<00:00, 14.56it/s]\n"
     ]
    },
    {
     "name": "stdout",
     "output_type": "stream",
     "text": [
      "Done\n",
      "158915 embeddings saved \n"
     ]
    }
   ],
   "source": [
    "import torch\n",
    "import skimage.io as io\n",
    "import clip\n",
    "from PIL import Image\n",
    "import pickle\n",
    "import json\n",
    "import os\n",
    "from tqdm import tqdm\n",
    "\n",
    "\n",
    "def main():\n",
    "    device = torch.device('cuda:0')\n",
    "    out_path = \"/content/drive/MyDrive/Colab Notebooks/Dataset 1/split_train.pkl\"\n",
    "    clip_model, preprocess = clip.load(\"ViT-B/32\", device=device, jit=False)\n",
    "    with open('/content/drive/MyDrive/Colab Notebooks/Dataset 1/flickr_caption.json', 'r') as f:\n",
    "        data = json.load(f)\n",
    "    print(\"%0d captions loaded from json \" % len(data))\n",
    "    all_embeddings = []\n",
    "    all_captions = []\n",
    "    for i in tqdm(range(len(data))):\n",
    "        d = data[i]\n",
    "        img_id = d[\"image_name\"]\n",
    "        filename = f\"/content/drive/MyDrive/Colab Notebooks/Dataset 1/Dataset Splitted/train/{int(img_id)}.jpg\"\n",
    "        if not os.path.isfile(filename):\n",
    "            filename = f\"/content/drive/MyDrive/Colab Notebooks/Dataset 1/Dataset Splitted/val/{int(img_id)}.jpg\"\n",
    "            if not os.path.isfile(filename):\n",
    "                filename = f\"/content/drive/MyDrive/Colab Notebooks/Dataset 1/Dataset Splitted/test/{int(img_id)}.jpg\"\n",
    "        image = io.imread(filename)\n",
    "        image = preprocess(Image.fromarray(image)).unsqueeze(0).to(device)\n",
    "        with torch.no_grad():\n",
    "            prefix = clip_model.encode_image(image).cpu()\n",
    "        d[\"clip_embedding\"] = i\n",
    "        all_embeddings.append(prefix)\n",
    "        all_captions.append(d)\n",
    "        if (i + 1) % 10000 == 0:\n",
    "            with open(out_path, 'wb') as f:\n",
    "                pickle.dump({\"clip_embedding\": torch.cat(all_embeddings, dim=0), \"captions\": all_captions}, f)\n",
    "\n",
    "    with open(out_path, 'wb') as f:\n",
    "        pickle.dump({\"clip_embedding\": torch.cat(all_embeddings, dim=0), \"captions\": all_captions}, f)\n",
    "\n",
    "    print('Done')\n",
    "    print(\"%0d embeddings saved \" % len(all_embeddings))\n",
    "    return 0\n",
    "\n",
    "\n",
    "if __name__ == '__main__':\n",
    "    exit(main())"
   ]
  }
 ],
 "metadata": {
  "accelerator": "GPU",
  "colab": {
   "collapsed_sections": [],
   "name": "parse_coco.ipynb",
   "provenance": []
  },
  "kernelspec": {
   "display_name": "Python 3 (ipykernel)",
   "language": "python",
   "name": "python3"
  },
  "language_info": {
   "codemirror_mode": {
    "name": "ipython",
    "version": 3
   },
   "file_extension": ".py",
   "mimetype": "text/x-python",
   "name": "python",
   "nbconvert_exporter": "python",
   "pygments_lexer": "ipython3",
   "version": "3.9.12"
  }
 },
 "nbformat": 4,
 "nbformat_minor": 4
}
